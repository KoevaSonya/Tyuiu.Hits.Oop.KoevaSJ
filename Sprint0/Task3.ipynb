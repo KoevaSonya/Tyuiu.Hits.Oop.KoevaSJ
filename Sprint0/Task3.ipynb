{
 "cells": [
  {
   "cell_type": "markdown",
   "metadata": {},
   "source": [
    "<h1 style=\"color:DodgerBlue\">Индивидальный проект</h1>"
   ]
  },
  {
   "cell_type": "markdown",
   "metadata": {},
   "source": [
    "<h2 style=\"color:DodgerBlue\">Название проекта:</h2>\n",
    "\n",
    "----\n",
    "\n",
    "Вариант задания № 9\n"
   ]
  },
  {
   "cell_type": "markdown",
   "metadata": {},
   "source": [
    "<h2 style=\"color:DodgerBlue\">Описание проекта:</h2>\n",
    "\n",
    "----\n",
    "\n",
    "Создать базовый класс Order в C#, который будет представлять информацию о\n",
    "заказах товаров или услуг. На основе этого класса разработать 2-3 производных\n",
    "класса, демонстрирующих принципы наследования и полиморфизма. В каждом из\n",
    "классов должны быть реализованы новые атрибуты и методы, а также\n",
    "переопределены некоторые методы базового класса для демонстрации\n",
    "полиморфизма.\n",
    "\n",
    "Требования к базовому классу Order:\n",
    "\n",
    "• Атрибуты:\n",
    "ID заказа (OrderId), \n",
    "Дата создания (CreationDate), \n",
    "Сумма заказа (TotalAmount).\n",
    "\n",
    "• Методы:\n",
    "\n",
    "o CalculateTotal(): метод для расчета общей суммы заказа.\n",
    "\n",
    "o AddItem(Item item): метод для добавления элемента в заказ.\n",
    "\n",
    "o RemoveItem(Item item): метод для удаления элемента из заказа.\n",
    "\n",
    "Требования к производным классам:\n",
    "1. ОнлайнЗаказ (OnlineOrder): Должен содержать дополнительные атрибуты,\n",
    "такие как Email клиента (CustomerEmail). Метод AddItem() должен быть\n",
    "переопределен для добавления информации о способе доставки при\n",
    "добавлении элемента.\n",
    "2. ФизическийЗаказ (PhysicalOrder): Должен содержать дополнительные\n",
    "атрибуты, такие как Адрес доставки (DeliveryAddress).\n",
    "Метод RemoveItem() должен быть переопределен для добавления\n",
    "информации о возврате товара при удалении элемента.\n",
    "3. СпециализированныйЗаказ (SpecializedOrder) (если требуется третий класс):\n",
    "Должен содержать дополнительные атрибуты, такие как Специальные\n",
    "условия (SpecialConditions). Метод CalculateTotal() должен быть\n",
    "переопределен для учета специальных условий при расчете общей суммы\n",
    "заказа.\n"
   ]
  },
  {
   "cell_type": "markdown",
   "metadata": {},
   "source": [
    "<h2 style=\"color:DodgerBlue\">Реализация:</h2>\n",
    "\n",
    "----"
   ]
  },
  {
   "cell_type": "code",
   "execution_count": null,
   "metadata": {
    "dotnet_interactive": {
     "language": "csharp"
    },
    "polyglot_notebook": {
     "kernelName": "csharp"
    }
   },
   "outputs": [],
   "source": [
    "\n",
    "\n"
   ]
  },
  {
   "cell_type": "code",
   "execution_count": 2,
   "metadata": {
    "dotnet_interactive": {
     "language": "csharp"
    },
    "polyglot_notebook": {
     "kernelName": "csharp"
    }
   },
   "outputs": [
    {
     "name": "stdout",
     "output_type": "stream",
     "text": [
      "Ваш ID...\n",
      "12334\n"
     ]
    }
   ],
   "source": [
    "\n",
    "class Order\n",
    "{\n",
    "\n",
    "   \n",
    "    private string orderId; // Приватное поле\n",
    "    public string OrderId // Свойство с геттером и сеттером\n",
    "    {\n",
    "        get { return orderId; }\n",
    "        set { orderId = value; }\n",
    "    }\n",
    "    public void Move()\n",
    "    {\n",
    "        Console.WriteLine(\"Ваш ID...\");\n",
    "    }\n",
    "\n",
    "\n",
    "\n",
    "    public virtual void AddItem()\n",
    "    {\n",
    "        Console.WriteLine(\"Транспорт двигается\");\n",
    "    }\n",
    "\n",
    "\n",
    "\n",
    "     class ID : Order\n",
    "    {\n",
    "      public override void AddItem()\n",
    "    {\n",
    "        //base.Move(); // Вызов метода базового класса\n",
    "        Console.WriteLine(\"Автомобиль двигается\");\n",
    "    }\n",
    "\n",
    "    }\n",
    "\n",
    "}\n",
    "\n",
    "\n",
    "\n",
    "Order myOrder = new Order(); // Создание объекта myVehicle\n",
    "ID myID= new ID(); // Создание объекта myCar\n",
    "myID.AddItem();\n",
    "\n",
    "myID.Move();\n",
    "myID.OrderId = \"12334\";\n",
    "Console.WriteLine(myID.OrderId);\n",
    "\n",
    "\n",
    "\n",
    "\n",
    "\n",
    "\n",
    "\n",
    "\n",
    "\n",
    "\n",
    " "
   ]
  }
 ],
 "metadata": {
  "kernelspec": {
   "display_name": ".NET (C#)",
   "language": "C#",
   "name": ".net-csharp"
  },
  "polyglot_notebook": {
   "kernelInfo": {
    "defaultKernelName": "csharp",
    "items": [
     {
      "aliases": [],
      "languageName": "csharp",
      "name": "csharp"
     }
    ]
   }
  }
 },
 "nbformat": 4,
 "nbformat_minor": 2
}
