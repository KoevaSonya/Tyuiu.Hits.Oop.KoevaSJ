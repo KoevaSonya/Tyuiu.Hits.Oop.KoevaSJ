{
 "cells": [
  {
   "cell_type": "markdown",
   "metadata": {},
   "source": [
    "<h1 style=\"color:DodgerBlue\">Индивидальный проект</h1>"
   ]
  },
  {
   "cell_type": "markdown",
   "metadata": {},
   "source": [
    "<h2 style=\"color:DodgerBlue\">Название проекта:</h2>\n",
    "\n",
    "----\n",
    "\n",
    "Вариант задания № 9\n"
   ]
  },
  {
   "cell_type": "markdown",
   "metadata": {},
   "source": [
    "<h2 style=\"color:DodgerBlue\">Описание проекта:</h2>\n",
    "\n",
    "----\n",
    "\n",
    "Создать базовый класс Order в C#, который будет представлять информацию о\n",
    "заказах товаров или услуг. На основе этого класса разработать 2-3 производных\n",
    "класса, демонстрирующих принципы наследования и полиморфизма. В каждом из\n",
    "классов должны быть реализованы новые атрибуты и методы, а также\n",
    "переопределены некоторые методы базового класса для демонстрации\n",
    "полиморфизма.\n",
    "\n",
    "Требования к базовому классу Order:\n",
    "\n",
    "• Атрибуты:\n",
    "ID заказа (OrderId), \n",
    "Дата создания (CreationDate), \n",
    "Сумма заказа (TotalAmount).\n",
    "\n",
    "• Методы:\n",
    "\n",
    "o CalculateTotal(): метод для расчета общей суммы заказа.\n",
    "\n",
    "o AddItem(Item item): метод для добавления элемента в заказ.\n",
    "\n",
    "o RemoveItem(Item item): метод для удаления элемента из заказа.\n",
    "\n",
    "Требования к производным классам:\n",
    "1. ОнлайнЗаказ (OnlineOrder): Должен содержать дополнительные атрибуты,\n",
    "такие как Email клиента (CustomerEmail). Метод AddItem() должен быть\n",
    "переопределен для добавления информации о способе доставки при\n",
    "добавлении элемента.\n",
    "2. ФизическийЗаказ (PhysicalOrder): Должен содержать дополнительные\n",
    "атрибуты, такие как Адрес доставки (DeliveryAddress).\n",
    "Метод RemoveItem() должен быть переопределен для добавления\n",
    "информации о возврате товара при удалении элемента.\n",
    "3. СпециализированныйЗаказ (SpecializedOrder) (если требуется третий класс):\n",
    "Должен содержать дополнительные атрибуты, такие как Специальные\n",
    "условия (SpecialConditions). Метод CalculateTotal() должен быть\n",
    "переопределен для учета специальных условий при расчете общей суммы\n",
    "заказа.\n"
   ]
  },
  {
   "cell_type": "markdown",
   "metadata": {},
   "source": [
    "<h2 style=\"color:DodgerBlue\">Реализация:</h2>\n",
    "\n",
    "----"
   ]
  },
  {
   "cell_type": "code",
   "execution_count": null,
   "metadata": {
    "dotnet_interactive": {
     "language": "csharp"
    },
    "polyglot_notebook": {
     "kernelName": "csharp"
    }
   },
   "outputs": [],
   "source": [
    "\n",
    "\n"
   ]
  },
  {
   "cell_type": "code",
   "execution_count": 2,
   "metadata": {
    "dotnet_interactive": {
     "language": "csharp"
    },
    "polyglot_notebook": {
     "kernelName": "csharp"
    }
   },
   "outputs": [],
   "source": [
    "\n",
    "public class Order\n",
    "{\n",
    "   public int OrderId = 3456;\n",
    "   public DateTime CreationDate  {get;set;}\n",
    "   public int TotalAmount = 13456;\n",
    "   protected List<Item> Items = new List<Item>();\n",
    "   \n",
    "\n",
    "   public virtual void AddItem(Item item) \n",
    "    {\n",
    "        Items.Add(item);\n",
    "        TotalAmount += item.Price;\n",
    "    }\n",
    "\n",
    "    public virtual void RemoveItem(Item item) \n",
    "    {\n",
    "        if (Items.Remove(item)) \n",
    "        {\n",
    "            TotalAmount -= item.Price;\n",
    "        }\n",
    "    }\n",
    "\n",
    "   public virtual int  CalculateTotal()\n",
    "   {\n",
    "      return TotalAmount;\n",
    "   }\n",
    "    \n",
    "\n",
    "\n",
    "// Конструктор\n",
    "    public Order(int orderId, DateTime creationDate)\n",
    "    {\n",
    "        OrderId = orderId;\n",
    "        CreationDate = creationDate;\n",
    "        TotalAmount = 0;\n",
    "    }\n",
    "}\n",
    "\n",
    "public class Item\n",
    "{\n",
    "    public int Id;\n",
    "    public string Name;\n",
    "    public int Price;\n",
    "    public string Refund;\n",
    "\n",
    "    // Конструктор\n",
    "    public Item(int id, string name, int price)\n",
    "    {\n",
    "        Id = id;\n",
    "        Name = name;\n",
    "        Price = price;\n",
    "        Refund = null;\n",
    "    }\n",
    "}\n",
    "\n",
    "public class OnlineOrder : Order\n",
    "{\n",
    "    public string CustomerEmail { get; set; }\n",
    "\n",
    "    public override void AddItem(Item item) \n",
    "    {\n",
    "        base.AddItem(item);  \n",
    "        Console.WriteLine(item.Name + \" добавлен в онлайн-заказ; \" + \"Id заказа: \" + OrderId + \"; Время: \" + CreationDate);\n",
    "    }\n",
    "\n",
    "    public override void RemoveItem(Item item) \n",
    "    {\n",
    "        base.RemoveItem(item);\n",
    "        Console.WriteLine(item.Name + \" удален из онлайн заказа.\");\n",
    "    }\n",
    "\n",
    "    // Конструктор\n",
    "    public OnlineOrder(int orderId, DateTime creationDate, string customerEmail) \n",
    "        : base(orderId, creationDate)\n",
    "    {\n",
    "        CustomerEmail = customerEmail;\n",
    "    }\n",
    "}\n",
    "\n",
    "public class PhysicalOrder : Order\n",
    "{\n",
    "    public string DeliveryAddress { get; set; }\n",
    "\n",
    "    public override void AddItem(Item item) \n",
    "    {\n",
    "        base.AddItem(item);\n",
    "        Console.WriteLine(item.Name + \" добавлен в физический заказ. Адрес доставки: \" + DeliveryAddress + \"; Id заказа: \" + OrderId + \"; Время: \" + CreationDate);\n",
    "    }\n",
    "\n",
    "    public override void RemoveItem(Item item) \n",
    "    {\n",
    "        base.RemoveItem(item);\n",
    "        item.Refund = \"Обработка возврата.\";\n",
    "        Console.WriteLine(item.Name + \" удален из физического заказа.\");\n",
    "    }\n",
    "\n",
    "    // Конструктор\n",
    "    public PhysicalOrder(int orderId, DateTime creationDate, string deliveryAddress) \n",
    "        : base(orderId, creationDate)\n",
    "    {\n",
    "        DeliveryAddress = deliveryAddress;\n",
    "    }\n",
    "}\n",
    "\n",
    "// Использование новых классов с конструкторами\n",
    "OnlineOrder onlineOrder = new OnlineOrder(101, DateTime.Now, \"gorotro_215@mail.ru\");\n",
    "PhysicalOrder physicalOrder = new PhysicalOrder(102, DateTime.Now, \"ул. Мельникайте 70, ауд. 1104\");\n",
    "\n",
    "\n",
    "\n",
    "var ExItem = new Item(1963, \"Проектор\", 15500);\n",
    "\n",
    "onlineOrder.AddItem(ExItem);\n",
    "Console.WriteLine(\"Общая сумма онлайн-заказа: \" + onlineOrder.CalculateTotal());\n",
    "\n",
    "physicalOrder.AddItem(ExItem);\n",
    "physicalOrder.RemoveItem(ExItem);\n",
    "Console.WriteLine(\"Общая сумма физического заказа: \" + physicalOrder.CalculateTotal());\n",
    "\n"
   ]
  }
 ],
 "metadata": {
  "kernelspec": {
   "display_name": ".NET (C#)",
   "language": "C#",
   "name": ".net-csharp"
  },
  "polyglot_notebook": {
   "kernelInfo": {
    "defaultKernelName": "csharp",
    "items": [
     {
      "aliases": [],
      "languageName": "csharp",
      "name": "csharp"
     }
    ]
   }
  }
 },
 "nbformat": 4,
 "nbformat_minor": 2
}
