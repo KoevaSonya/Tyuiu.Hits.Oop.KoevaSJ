{
 "cells": [
  {
   "cell_type": "markdown",
   "metadata": {},
   "source": [
    "<h1 style=\"color:DodgerBlue\">Индивидальный проект</h1>"
   ]
  },
  {
   "cell_type": "markdown",
   "metadata": {},
   "source": [
    "<h2 style=\"color:DodgerBlue\">Название проекта:</h2>\n",
    "\n",
    "----\n",
    "\n",
    "Вариант задания № 9\n"
   ]
  },
  {
   "cell_type": "markdown",
   "metadata": {},
   "source": [
    "<h2 style=\"color:DodgerBlue\">Описание проекта:</h2>\n",
    "\n",
    "----\n",
    "\n",
    "Создать базовый класс Order в C#, который будет представлять информацию о\n",
    "заказах товаров или услуг. На основе этого класса разработать 2-3 производных\n",
    "класса, демонстрирующих принципы наследования и полиморфизма. В каждом из\n",
    "классов должны быть реализованы новые атрибуты и методы, а также\n",
    "переопределены некоторые методы базового класса для демонстрации\n",
    "полиморфизма.\n",
    "\n",
    "Требования к базовому классу Order:\n",
    "\n",
    "• Атрибуты:\n",
    "ID заказа (OrderId), \n",
    "Дата создания (CreationDate), \n",
    "Сумма заказа (TotalAmount).\n",
    "\n",
    "• Методы:\n",
    "\n",
    "o CalculateTotal(): метод для расчета общей суммы заказа.\n",
    "\n",
    "o AddItem(Item item): метод для добавления элемента в заказ.\n",
    "\n",
    "o RemoveItem(Item item): метод для удаления элемента из заказа.\n",
    "\n",
    "Требования к производным классам:\n",
    "1. ОнлайнЗаказ (OnlineOrder): Должен содержать дополнительные атрибуты,\n",
    "такие как Email клиента (CustomerEmail). Метод AddItem() должен быть\n",
    "переопределен для добавления информации о способе доставки при\n",
    "добавлении элемента.\n",
    "2. ФизическийЗаказ (PhysicalOrder): Должен содержать дополнительные\n",
    "атрибуты, такие как Адрес доставки (DeliveryAddress).\n",
    "Метод RemoveItem() должен быть переопределен для добавления\n",
    "информации о возврате товара при удалении элемента.\n",
    "3. СпециализированныйЗаказ (SpecializedOrder) (если требуется третий класс):\n",
    "Должен содержать дополнительные атрибуты, такие как Специальные\n",
    "условия (SpecialConditions). Метод CalculateTotal() должен быть\n",
    "переопределен для учета специальных условий при расчете общей суммы\n",
    "заказа.\n"
   ]
  },
  {
   "cell_type": "markdown",
   "metadata": {},
   "source": [
    "<h2 style=\"color:DodgerBlue\">Реализация:</h2>\n",
    "\n",
    "----"
   ]
  },
  {
   "cell_type": "code",
   "execution_count": null,
   "metadata": {
    "dotnet_interactive": {
     "language": "csharp"
    },
    "polyglot_notebook": {
     "kernelName": "csharp"
    }
   },
   "outputs": [],
   "source": [
    "\n",
    "\n"
   ]
  },
  {
   "cell_type": "code",
   "execution_count": 1,
   "metadata": {
    "dotnet_interactive": {
     "language": "csharp"
    },
    "polyglot_notebook": {
     "kernelName": "csharp"
    }
   },
   "outputs": [
    {
     "ename": "Error",
     "evalue": "(9,17): error CS0246: The type or namespace name 'Item' could not be found (are you missing a using directive or an assembly reference?)\r\n(27,25): error CS0246: The type or namespace name 'Item' could not be found (are you missing a using directive or an assembly reference?)\r\n(32,28): error CS0246: The type or namespace name 'Item' could not be found (are you missing a using directive or an assembly reference?)\r\n(47,34): error CS0246: The type or namespace name 'Item' could not be found (are you missing a using directive or an assembly reference?)\r\n(63,37): error CS0246: The type or namespace name 'Item' could not be found (are you missing a using directive or an assembly reference?)\r\n(47,26): error CS0506: 'OnlineOrder.AddItem(Item)': cannot override inherited member 'Order.AddItem(Item)' because it is not marked virtual, abstract, or override\r\n(63,26): error CS0506: 'PhysicalOrder.RemoveItem(Item)': cannot override inherited member 'Order.RemoveItem(Item)' because it is not marked virtual, abstract, or override\r\n(71,25): error CS0246: The type or namespace name 'Item' could not be found (are you missing a using directive or an assembly reference?)\r\n(72,25): error CS0246: The type or namespace name 'Item' could not be found (are you missing a using directive or an assembly reference?)\r\n(76,27): error CS0246: The type or namespace name 'Item' could not be found (are you missing a using directive or an assembly reference?)\r\n(15,26): error CS0246: The type or namespace name 'Item' could not be found (are you missing a using directive or an assembly reference?)\r\n(21,18): error CS0246: The type or namespace name 'Item' could not be found (are you missing a using directive or an assembly reference?)",
     "output_type": "error",
     "traceback": [
      "(9,17): error CS0246: The type or namespace name 'Item' could not be found (are you missing a using directive or an assembly reference?)\r\n",
      "(27,25): error CS0246: The type or namespace name 'Item' could not be found (are you missing a using directive or an assembly reference?)\r\n",
      "(32,28): error CS0246: The type or namespace name 'Item' could not be found (are you missing a using directive or an assembly reference?)\r\n",
      "(47,34): error CS0246: The type or namespace name 'Item' could not be found (are you missing a using directive or an assembly reference?)\r\n",
      "(63,37): error CS0246: The type or namespace name 'Item' could not be found (are you missing a using directive or an assembly reference?)\r\n",
      "(47,26): error CS0506: 'OnlineOrder.AddItem(Item)': cannot override inherited member 'Order.AddItem(Item)' because it is not marked virtual, abstract, or override\r\n",
      "(63,26): error CS0506: 'PhysicalOrder.RemoveItem(Item)': cannot override inherited member 'Order.RemoveItem(Item)' because it is not marked virtual, abstract, or override\r\n",
      "(71,25): error CS0246: The type or namespace name 'Item' could not be found (are you missing a using directive or an assembly reference?)\r\n",
      "(72,25): error CS0246: The type or namespace name 'Item' could not be found (are you missing a using directive or an assembly reference?)\r\n",
      "(76,27): error CS0246: The type or namespace name 'Item' could not be found (are you missing a using directive or an assembly reference?)\r\n",
      "(15,26): error CS0246: The type or namespace name 'Item' could not be found (are you missing a using directive or an assembly reference?)\r\n",
      "(21,18): error CS0246: The type or namespace name 'Item' could not be found (are you missing a using directive or an assembly reference?)"
     ]
    }
   ],
   "source": [
    "using System;\n",
    "using System.Collections.Generic;\n",
    "\n",
    "public class Order\n",
    "{\n",
    "    public int OrderId { get; set; }\n",
    "    public DateTime CreationDate { get; set; }\n",
    "    public double TotalAmount { get; set; }\n",
    "    public List<Item> Items { get; set; }\n",
    "\n",
    "    public Order(int orderId, DateTime creationDate)\n",
    "    {\n",
    "        OrderId = orderId;\n",
    "        CreationDate = creationDate;\n",
    "        Items = new List<Item>();\n",
    "    }\n",
    "\n",
    "    public virtual void CalculateTotal()\n",
    "    {\n",
    "        TotalAmount = 0;\n",
    "        foreach (Item item in Items)\n",
    "        {\n",
    "            TotalAmount += item.Price;\n",
    "        }\n",
    "    }\n",
    "\n",
    "    public void AddItem(Item item)\n",
    "    {\n",
    "        Items.Add(item);\n",
    "    }\n",
    "\n",
    "    public void RemoveItem(Item item)\n",
    "    {\n",
    "        Items.Remove(item);\n",
    "    }\n",
    "}\n",
    "\n",
    "public class OnlineOrder : Order\n",
    "{\n",
    "    public string CustomerEmail { get; set; }\n",
    "\n",
    "    public OnlineOrder(int orderId, DateTime creationDate, string customerEmail) : base(orderId, creationDate)\n",
    "    {\n",
    "        CustomerEmail = customerEmail;\n",
    "    }\n",
    "\n",
    "    public override void AddItem(Item item)\n",
    "    {\n",
    "        base.AddItem(item);\n",
    "        // Добавить информацию о способе доставки\n",
    "    }\n",
    "}\n",
    "\n",
    "public class PhysicalOrder : Order\n",
    "{\n",
    "    public string DeliveryAddress { get; set; }\n",
    "\n",
    "    public PhysicalOrder(int orderId, DateTime creationDate, string deliveryAddress) : base(orderId, creationDate)\n",
    "    {\n",
    "        DeliveryAddress = deliveryAddress;\n",
    "    }\n",
    "\n",
    "    public override void RemoveItem(Item item)\n",
    "    {\n",
    "        base.RemoveItem(item);\n",
    "        // Добавить информацию о возврате товара\n",
    "    }\n",
    "}\n",
    "\n",
    "Order onlineOrder = new OnlineOrder(1, DateTime.Now, \"example@email.com\");\n",
    "onlineOrder.AddItem(new Item(\"Product 1\", 10));\n",
    "onlineOrder.AddItem(new Item(\"Product 2\", 15));\n",
    "onlineOrder.CalculateTotal();\n",
    "\n",
    "Order physicalOrder = new PhysicalOrder(2, DateTime.Now, \"123 Street, City\");\n",
    "physicalOrder.AddItem(new Item(\"Product 3\", 20));\n",
    "physicalOrder.RemoveItem(physicalOrder.Items[0]);\n",
    "physicalOrder.CalculateTotal();"
   ]
  }
 ],
 "metadata": {
  "kernelspec": {
   "display_name": ".NET (C#)",
   "language": "C#",
   "name": ".net-csharp"
  },
  "polyglot_notebook": {
   "kernelInfo": {
    "defaultKernelName": "csharp",
    "items": [
     {
      "aliases": [],
      "languageName": "csharp",
      "name": "csharp"
     }
    ]
   }
  }
 },
 "nbformat": 4,
 "nbformat_minor": 2
}
