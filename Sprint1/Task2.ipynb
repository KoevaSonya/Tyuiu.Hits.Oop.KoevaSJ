{
 "cells": [
  {
   "cell_type": "markdown",
   "metadata": {},
   "source": [
    "<h1 style=\"color:DodgerBlue\">Создание экземпляров классов (объектов) и взаимодействие объектов между собой</h1>"
   ]
  },
  {
   "cell_type": "markdown",
   "metadata": {},
   "source": [
    "### Создание экземпляров классов (объектов)\n",
    "\n",
    "В C#, экземпляр класса создается с помощью оператора `new`, который выделяет память для нового объекта и вызывает конструктор класса для инициализации этого объекта. Конструктор — это специальный метод в классе, который имеет то же имя, что и класс, и используется для установки начального состояния объекта.\n",
    "\n",
    "#### Пример создания экземпляров классов Vehicle и Car\n",
    "\n",
    "```csharp\n",
    "Vehicle myVehicle = new Vehicle();\n",
    "Car myCar = new Car();\n",
    "```\n",
    "\n",
    "В этом примере создаются два объекта: один для класса `Vehicle` и другой для класса `Car`. Конструкторы этих классов будут автоматически вызваны при создании объектов.\n",
    "\n",
    "### Взаимодействие объектов между Собой\n",
    "\n",
    "Взаимодействие объектов между собой означает, что один объект может вызывать методы другого объекта или обращаться к его свойствам (если они доступны). Это позволяет объектам обмениваться информацией и координировать свои действия.\n",
    "\n",
    "#### Пример взаимодействия объектов\n",
    "\n",
    "```csharp\n",
    "myVehicle.Color = \"Red\";\n",
    "myVehicle.Speed = 60;\n",
    "\n",
    "myCar.Color = \"Blue\";\n",
    "myCar.FuelLevel = 100;\n",
    "myCar.Refuel(50); // Увеличиваем уровень топлива на 50\n",
    "```\n",
    "\n",
    "В этом примере мы устанавливаем свойства `Color` и `Speed` для объекта `myVehicle`, а также свойства `Color` и `FuelLevel` для объекта `myCar`. Затем мы вызываем метод `Refuel` у объекта `myCar`, чтобы увеличить его уровень топлива.\n",
    "\n",
    "### Закрепление правил использования модификаторов доступа\n",
    "\n",
    "Модификаторы доступа определяют уровень доступности членов класса из других частей кода. Важно правильно использовать модификаторы доступа для обеспечения безопасности и инкапсуляции данных.\n",
    "\n",
    "#### Примеры модификаторов доступа в классах Vehicle и Car\n",
    "\n",
    "```csharp\n",
    "public class Vehicle\n",
    "{\n",
    "    public string Color { get; set; } // public свойство\n",
    "    private int speed; // private поле\n",
    "\n",
    "    protected void SetSpeed(int value) // protected метод\n",
    "    {\n",
    "        speed = value;\n",
    "    }\n",
    "}\n",
    "\n",
    "public class Car : Vehicle\n",
    "{\n",
    "    private int fuelLevel; // private поле\n",
    "\n",
    "    public void Refuel(int amount) // public метод\n",
    "    {\n",
    "        fuelLevel += amount;\n",
    "    }\n",
    "\n",
    "    protected void CheckSpeedLimit() // protected метод\n",
    "    {\n",
    "        if (speed > 120)\n",
    "        {\n",
    "            Console.WriteLine(\"Превышен скоростной режим!\");\n",
    "        }\n",
    "    }\n",
    "}\n",
    "```\n",
    "\n",
    "В этом примере:\n",
    "- Свойство `Color` в классе `Vehicle` объявлено как `public`, что позволяет доступ к нему из любого места в коде.\n",
    "- Поле `speed` в классе `Vehicle` объявлено как `private`, что ограничивает доступ к нему только внутри класса `Vehicle`.\n",
    "- Метод `SetSpeed` в классе `Vehicle` объявлен как `protected`, что позволяет доступ к нему из класса `Vehicle` и его производных классов.\n",
    "- Поле `fuelLevel` в классе `Car` объявлено как `private`, ограничивая доступ к нему только внутри класса `Car`.\n",
    "- Методы `Refuel` и `CheckSpeedLimit` в классе `Car` демонстрируют использование модификаторов доступа для контроля над тем, как объекты могут взаимодействовать друг с другом.\n",
    "\n",
    "### Заключение\n",
    "\n",
    "Создание экземпляров классов и взаимодействие между объектами являются ключевыми аспектами объектно-ориентированного программирования в C#. Правильное использование модификаторов доступа обеспечивает безопасность данных и инкапсуляцию, позволяя разработчикам создавать более надежные и управляемые программы."
   ]
  },
  {
   "cell_type": "markdown",
   "metadata": {},
   "source": [
    "<h4 style=\"color:DodgerBlue\">Для проверки напишите пример кода на основе классов Car и Vehicle ниже в блоке:</h4>\n",
    "\n",
    "----"
   ]
  },
  {
   "cell_type": "code",
   "execution_count": null,
   "metadata": {
    "dotnet_interactive": {
     "language": "csharp"
    },
    "polyglot_notebook": {
     "kernelName": "csharp"
    }
   },
   "outputs": [],
   "source": []
  },
  {
   "cell_type": "code",
   "execution_count": 9,
   "metadata": {
    "dotnet_interactive": {
     "language": "csharp"
    },
    "polyglot_notebook": {
     "kernelName": "csharp"
    }
   },
   "outputs": [
    {
     "name": "stdout",
     "output_type": "stream",
     "text": [
      "Транспортное средство: Красного цвета \n",
      "Скорость транспортного средства: 60\n",
      "\n",
      "Машина Голубого цвета \n",
      "Уровень топлива машины: 100\n",
      "\n",
      "Увеличиваем уровень топлива машины на 50:\n",
      "Уровень топлива машины: 80\n"
     ]
    }
   ],
   "source": [
    "public class Vehicle\n",
    "{\n",
    "    public string Color { get; set; } // public свойство\n",
    "    private int speed; // private поле\n",
    "\n",
    "    public int Speed\n",
    "    {\n",
    "        get{return speed;}\n",
    "        set{speed = value;}\n",
    "    }\n",
    "\n",
    "    protected void SetSpeed(int value) // protected метод\n",
    "    {\n",
    "        speed = value;\n",
    "    }\n",
    "}\n",
    "\n",
    "public class Car : Vehicle\n",
    "{\n",
    "    private int fuelLevel; // private поле\n",
    "\n",
    "    public int FuelLevel\n",
    "    {\n",
    "        get{return fuelLevel;}\n",
    "        set{fuelLevel = value;}\n",
    "    }\n",
    "\n",
    "    public void Refuel(int amount) // public метод\n",
    "    {\n",
    "        fuelLevel += amount;\n",
    "    }\n",
    "\n",
    "    protected void CheckSpeedLimit() // protected метод\n",
    "    {\n",
    "        if (Speed > 120)\n",
    "        {\n",
    "            Console.WriteLine(\"Превышен скоростной режим!\");\n",
    "        }\n",
    "    }\n",
    "}\n",
    "\n",
    "Vehicle myVehicle = new Vehicle();\n",
    "Car myCar = new Car();\n",
    "myVehicle.Color = \"Красного\";\n",
    "Console.WriteLine($\"Транспортное средство: {myVehicle.Color} цвета \");\n",
    "myVehicle.Speed = 60;\n",
    "Console.WriteLine($\"Скорость транспортного средства: {myVehicle.Speed}\");\n",
    "Console.WriteLine();\n",
    "\n",
    "myCar.Color = \"Голубого\";\n",
    "Console.WriteLine($\"Машина {myCar.Color} цвета \");\n",
    "myCar.FuelLevel = 100;\n",
    "Console.WriteLine($\"Уровень топлива машины: {myCar.FuelLevel}\");\n",
    "Console.WriteLine();\n",
    "\n",
    "myCar.FuelLevel = 30;\n",
    "myCar.Refuel(50); // Увеличиваем уровень топлива на 50\n",
    "Console.WriteLine(\"Увеличиваем уровень топлива машины на 50:\");\n",
    "Console.WriteLine($\"Уровень топлива машины: {myCar.FuelLevel}\");\n",
    "\n"
   ]
  },
  {
   "cell_type": "markdown",
   "metadata": {},
   "source": [
    "<h4 style=\"color:Red\">Задание:</h4>\n",
    "\n",
    "----\n",
    "\n",
    "Ниже в блоке по примеру создайте базовый класс Animal и производные классы (2-3 например Dog, Cat и так далее) реализуйте структуру и объявление класса, включая свойства, геттеры и сеттеры, а также статические и обычными атрибуты и метода класса с реализацией взаимодействия между объектами."
   ]
  },
  {
   "cell_type": "code",
   "execution_count": 1,
   "metadata": {
    "dotnet_interactive": {
     "language": "csharp"
    },
    "polyglot_notebook": {
     "kernelName": "csharp"
    }
   },
   "outputs": [
    {
     "name": "stdout",
     "output_type": "stream",
     "text": [
      "У животного Рыжий цвет \n",
      "Животному 5 лет\n",
      "\n",
      "Кошка Черная \n",
      "Количество еды в день: 70 грамм\n",
      "Увеличиваем количества еды на: 50 грамм\n",
      "Количества еды: 80 грамм\n",
      "\n",
      "Собака Белая цвета \n",
      "Возраст для участия в выставке: 8\n"
     ]
    }
   ],
   "source": [
    "public class Animal\n",
    "{\n",
    "    public string Color { get; set; } // public свойство\n",
    "    protected int age;// private поле\n",
    "    protected int eat;\n",
    "    \n",
    "    protected void SetEat (int value)\n",
    "    {\n",
    "        eat = value;\n",
    "    }\n",
    "\n",
    "    public int Age\n",
    "    {\n",
    "        get{return age;}\n",
    "        set{age = value;}\n",
    "    }\n",
    "\n",
    "    protected void SetAge(int value) // protected метод\n",
    "    {\n",
    "        age = value;\n",
    "    }\n",
    "}\n",
    "\n",
    "public class Cat : Animal\n",
    "{\n",
    "    private int eatlevel; // private поле\n",
    "\n",
    "    public int EatLevel\n",
    "    {\n",
    "        get{return eatlevel;}\n",
    "        set{eatlevel = value;}\n",
    "    }\n",
    "\n",
    "    public void Amountfood(int amount) // public метод\n",
    "    {\n",
    "        eatlevel += amount;\n",
    "    }\n",
    "\n",
    "    protected void EatLimit() // protected метод\n",
    "    {\n",
    "        if (eat > 85)\n",
    "        {\n",
    "            Console.WriteLine(\"Превышена норма еды!\");\n",
    "        }\n",
    "    }\n",
    "}\n",
    "\n",
    "public class Dog : Animal\n",
    "{\n",
    "    private int ageLevel;\n",
    "\n",
    "    public int AgeLevel\n",
    "    {\n",
    "        get{return ageLevel;}\n",
    "        set{ageLevel = value;}\n",
    "    }\n",
    "\n",
    "    public void Amountage(int amount)\n",
    "    {\n",
    "        ageLevel += amount;\n",
    "    }\n",
    "    protected void AgeLimit()\n",
    "    {\n",
    "        if (age > 10)\n",
    "        {\n",
    "            Console.WriteLine(\"Превышен максимальный возраст для выступления на выставке!\");\n",
    "        }\n",
    "    }\n",
    "\n",
    "    }\n",
    "\n",
    "Animal myAnimal = new Animal();\n",
    "Cat myCat = new Cat();\n",
    "myAnimal.Color = \"Рыжий\";\n",
    "Console.WriteLine($\"У животного {myAnimal.Color} цвет \");\n",
    "myAnimal.Age = 5;\n",
    "Console.WriteLine($\"Животному {myAnimal.Age} лет\");\n",
    "Console.WriteLine();\n",
    "\n",
    "myCat.Color = \"Черная\";\n",
    "Console.WriteLine($\"Кошка {myCat.Color} \");\n",
    "myCat.EatLevel = 70;\n",
    "Console.WriteLine($\"Количество еды в день: {myCat.EatLevel} грамм\");\n",
    "myCat.EatLevel = 30;\n",
    "myCat.Amountfood(50); // Увеличиваем уровень топлива на 50\n",
    "Console.WriteLine($\"Увеличиваем количества еды на: 50 грамм\");\n",
    "Console.WriteLine($\"Количества еды: {myCat.EatLevel} грамм\");\n",
    "\n",
    "Console.WriteLine();\n",
    "Dog myDog = new Dog();\n",
    "myDog.Color = \"Белая\";\n",
    "Console.WriteLine($\"Собака {myDog.Color} цвета \");\n",
    "myDog.AgeLevel = 4;\n",
    "myDog.Amountage(4);\n",
    "Console.WriteLine($\"Возраст для участия в выставке: {myDog.AgeLevel}\");"
   ]
  }
 ],
 "metadata": {
  "kernelspec": {
   "display_name": ".NET (C#)",
   "language": "C#",
   "name": ".net-csharp"
  },
  "polyglot_notebook": {
   "kernelInfo": {
    "defaultKernelName": "csharp",
    "items": [
     {
      "aliases": [],
      "languageName": "csharp",
      "name": "csharp"
     }
    ]
   }
  }
 },
 "nbformat": 4,
 "nbformat_minor": 2
}
