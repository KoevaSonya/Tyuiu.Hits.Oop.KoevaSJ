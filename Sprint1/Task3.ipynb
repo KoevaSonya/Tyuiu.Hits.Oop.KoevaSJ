{
 "cells": [
  {
   "cell_type": "markdown",
   "metadata": {},
   "source": [
    "<h1 style=\"color:DodgerBlue\">Индивидальный проект</h1>"
   ]
  },
  {
   "cell_type": "markdown",
   "metadata": {},
   "source": [
    "<h2 style=\"color:DodgerBlue\">Название проекта:</h2>\n",
    "\n",
    "----\n",
    "\n",
    "### Вариант задания 9\n"
   ]
  },
  {
   "cell_type": "markdown",
   "metadata": {},
   "source": [
    "<h2 style=\"color:DodgerBlue\">Описание проекта:</h2>\n",
    "\n",
    "----\n",
    "\n",
    "Создать базовый класс Order в C#, который будет представлять информацию о\n",
    "заказах товаров или услуг. На основе этого класса разработать 2-3 производных\n",
    "класса, демонстрирующих принципы наследования и полиморфизма. В каждом из\n",
    "классов должны быть реализованы новые атрибуты и методы, а также\n",
    "переопределены некоторые методы базового класса для демонстрации\n",
    "полиморфизма.\n",
    "\n",
    "#### Дополнительное задание\n",
    "Добавьте к сущестующим классам конструктора классов с использованием гетторов и сетторов и реализуйте взаимодействие объектов между собой"
   ]
  },
  {
   "cell_type": "markdown",
   "metadata": {},
   "source": [
    "<h2 style=\"color:DodgerBlue\">Реализация:</h2>\n",
    "\n",
    "----"
   ]
  },
  {
   "cell_type": "code",
   "execution_count": 1,
   "metadata": {
    "dotnet_interactive": {
     "language": "csharp"
    },
    "polyglot_notebook": {
     "kernelName": "csharp"
    }
   },
   "outputs": [
    {
     "name": "stdout",
     "output_type": "stream",
     "text": [
      "Данные онлайн заказа: ID: 12, Дата: 09/09/2024, Что в заказе: сковородка, Email : 34567@оыирв, , Сумма заказа: 10000\n",
      "\n",
      "Данные физического заказа: Адрес : Мельникайте 70, Дата: 13/08/2024, ID : 13, Сумма заказа : 5000, Что в заказе: кострюля\n"
     ]
    }
   ],
   "source": [
    "public class Order\n",
    "{\n",
    "   public int OrderId { get; set; }\n",
    "   public string CreationDate { get; set; }\n",
    "   public int TotalAmount { get; set; }\n",
    "   public int Price { get; set; }\n",
    "   public string Name{ get; set; }\n",
    "    \n",
    "    public virtual int  CalculateTotal()\n",
    "   {\n",
    "      return TotalAmount;\n",
    "   }\n",
    "   public virtual void AddItem(Item item) \n",
    "    {\n",
    "        \n",
    "        TotalAmount += item.Price;\n",
    "    }\n",
    "\n",
    "    public virtual void RemoveItem(Item item) \n",
    "    {\n",
    "        \n",
    "        TotalAmount -= item.Price;\n",
    "        \n",
    "    }\n",
    "    \n",
    "}\n",
    "    public class Item \n",
    "{\n",
    "    public Item(string name, int price)\n",
    "\n",
    "    {\n",
    "        Name = name;\n",
    "        Price = price;  \n",
    "    }\n",
    "    \n",
    "    public string Name = \"сковородка\";\n",
    "    public int Price = 5000;\n",
    "    \n",
    "}\n",
    "\n",
    "    \n",
    "\n",
    "    public class OnlineOrder : Order\n",
    "\n",
    "    {\n",
    "      private string CustomerEmail{ get; set; }\n",
    "\n",
    "      public OnlineOrder(int Id, string date, string name, string customerEmail, int totalAmount) \n",
    "      {\n",
    "        OrderId = Id;\n",
    "        CreationDate = date;\n",
    "        Name = name;\n",
    "        CustomerEmail = customerEmail;\n",
    "        TotalAmount = totalAmount;\n",
    "      }\n",
    "\n",
    "\n",
    "    public override void AddItem(Item item) \n",
    "      {\n",
    "        \n",
    "        TotalAmount += item.Price;\n",
    "        Console.WriteLine($\"Данные онлайн заказа: ID: {OrderId}, Дата: {CreationDate}, Что в заказе: {Name}, Email : {CustomerEmail}, , Сумма заказа: {TotalAmount}\");\n",
    "      }  \n",
    "    \n",
    "    }\n",
    "\n",
    "     public class PhysicalOrder : Order\n",
    "\n",
    "    {\n",
    "        public string DeliveryAddress{ get; set; }\n",
    "\n",
    "        public PhysicalOrder(int Id, string date, string name, string deliveryAdress, int TotalAmount)\n",
    "       {\n",
    "        OrderId = Id;\n",
    "        Name = name;\n",
    "        CreationDate = date;\n",
    "        DeliveryAddress = deliveryAdress;\n",
    "       }\n",
    "\n",
    "        public override void AddItem(Item item) \n",
    "       {\n",
    "        TotalAmount += item.Price;\n",
    "        Console.WriteLine($\"Данные физического заказа: Адрес : {DeliveryAddress}, Дата: {CreationDate}, ID : {OrderId}, Сумма заказа : {TotalAmount}, Что в заказе: {Name}\");\n",
    "        }\n",
    "\n",
    "    }\n",
    "\n",
    "\n",
    "OnlineOrder onlineOrder = new OnlineOrder(12, \"09/09/2024\", \"сковородка\", \"34567@оыирв\", 5000);\n",
    "Item item = new Item(\"сковородка\", 5000);\n",
    "onlineOrder.AddItem(item);\n",
    "Console.WriteLine();\n",
    "PhysicalOrder physicalOrder = new PhysicalOrder(13, \"13/08/2024\", \"кострюля\", \"Мельникайте 70\", 6000);\n",
    "\n",
    "\n",
    "physicalOrder.AddItem(item);\n"
   ]
  }
 ],
 "metadata": {
  "kernelspec": {
   "display_name": ".NET (C#)",
   "language": "C#",
   "name": ".net-csharp"
  },
  "polyglot_notebook": {
   "kernelInfo": {
    "defaultKernelName": "csharp",
    "items": [
     {
      "aliases": [],
      "languageName": "csharp",
      "name": "csharp"
     }
    ]
   }
  }
 },
 "nbformat": 4,
 "nbformat_minor": 2
}
